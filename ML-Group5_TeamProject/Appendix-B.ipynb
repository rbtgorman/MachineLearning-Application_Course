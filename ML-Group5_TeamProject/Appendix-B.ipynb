{
 "cells": [
  {
   "cell_type": "code",
   "execution_count": 1,
   "id": "de0d9ca3-8f7a-4af2-a077-bcb8f96ebfbf",
   "metadata": {},
   "outputs": [],
   "source": [
    "import os\n",
    "import numpy as np\n",
    "import pandas as pd\n",
    "import math\n",
    "import matplotlib.pylab as plt\n",
    "import seaborn as sns\n",
    "from IPython.display import display\n",
    "from sklearn.linear_model import LogisticRegression"
   ]
  },
  {
   "cell_type": "code",
   "execution_count": 28,
   "id": "8f5292cd-58e4-4463-a218-b025968e226a",
   "metadata": {},
   "outputs": [
    {
     "data": {
      "text/html": [
       "<div>\n",
       "<style scoped>\n",
       "    .dataframe tbody tr th:only-of-type {\n",
       "        vertical-align: middle;\n",
       "    }\n",
       "\n",
       "    .dataframe tbody tr th {\n",
       "        vertical-align: top;\n",
       "    }\n",
       "\n",
       "    .dataframe thead th {\n",
       "        text-align: right;\n",
       "    }\n",
       "</style>\n",
       "<table border=\"1\" class=\"dataframe\">\n",
       "  <thead>\n",
       "    <tr style=\"text-align: right;\">\n",
       "      <th></th>\n",
       "      <th>Customer</th>\n",
       "      <th>Spending(000)</th>\n",
       "      <th>Card</th>\n",
       "      <th>Coupon-Usage-Indicator</th>\n",
       "    </tr>\n",
       "  </thead>\n",
       "  <tbody>\n",
       "    <tr>\n",
       "      <th>0</th>\n",
       "      <td>1</td>\n",
       "      <td>2.291</td>\n",
       "      <td>1</td>\n",
       "      <td>0</td>\n",
       "    </tr>\n",
       "    <tr>\n",
       "      <th>1</th>\n",
       "      <td>2</td>\n",
       "      <td>3.215</td>\n",
       "      <td>1</td>\n",
       "      <td>0</td>\n",
       "    </tr>\n",
       "    <tr>\n",
       "      <th>2</th>\n",
       "      <td>3</td>\n",
       "      <td>2.135</td>\n",
       "      <td>1</td>\n",
       "      <td>0</td>\n",
       "    </tr>\n",
       "    <tr>\n",
       "      <th>3</th>\n",
       "      <td>4</td>\n",
       "      <td>3.924</td>\n",
       "      <td>0</td>\n",
       "      <td>0</td>\n",
       "    </tr>\n",
       "    <tr>\n",
       "      <th>4</th>\n",
       "      <td>5</td>\n",
       "      <td>2.528</td>\n",
       "      <td>1</td>\n",
       "      <td>0</td>\n",
       "    </tr>\n",
       "  </tbody>\n",
       "</table>\n",
       "</div>"
      ],
      "text/plain": [
       "   Customer  Spending(000)  Card  Coupon-Usage-Indicator\n",
       "0         1          2.291     1                       0\n",
       "1         2          3.215     1                       0\n",
       "2         3          2.135     1                       0\n",
       "3         4          3.924     0                       0\n",
       "4         5          2.528     1                       0"
      ]
     },
     "execution_count": 28,
     "metadata": {},
     "output_type": "execute_result"
    }
   ],
   "source": [
    "df = pd.read_excel('Simmons-data-raw.xlsx')\n",
    "df.head(5)"
   ]
  },
  {
   "cell_type": "code",
   "execution_count": 30,
   "id": "c3116753-a35d-428e-b4b0-b0e7a8ca6c02",
   "metadata": {},
   "outputs": [
    {
     "data": {
      "text/plain": [
       "Customer                    int64\n",
       "Spending(000)             float64\n",
       "Card                        int64\n",
       "Coupon-Usage-Indicator      int64\n",
       "dtype: object"
      ]
     },
     "execution_count": 30,
     "metadata": {},
     "output_type": "execute_result"
    }
   ],
   "source": [
    "df.dtypes\n"
   ]
  },
  {
   "cell_type": "markdown",
   "id": "5c1d62a1-f884-41d8-84eb-78562a7f93af",
   "metadata": {},
   "source": [
    "## B-1"
   ]
  },
  {
   "cell_type": "code",
   "execution_count": 40,
   "id": "4ac6b9ec-ca3f-499f-99d4-3a974927e9bf",
   "metadata": {
    "scrolled": true
   },
   "outputs": [
    {
     "name": "stdout",
     "output_type": "stream",
     "text": [
      "LR coefficients:\n",
      "BETA0 (or constant term): -2.0067\n",
      "BETA1 (coeff. For X1): 0.3299\n",
      "BETA2 (coeff. For X2): 0.9179\n",
      "\n",
      "\n",
      "Odds Ratios:\n",
      "X1: 1.3908\n",
      "X2: 2.5040\n"
     ]
    }
   ],
   "source": [
    "predictor_cols = [\"Spending(000)\",\"Card\"]\n",
    "target_col = \"Coupon-Usage-Indicator\"\n",
    "\n",
    "model = LogisticRegression()\n",
    "model.fit(df[predictor_cols].values,df[target_col])\n",
    "beta0 = model.intercept_[0]\n",
    "beta1 = model.coef_[0][0]\n",
    "beta2 = model.coef_[0][1]\n",
    "print('LR coefficients:')\n",
    "print('BETA0 (or constant term): {:.4f}'.format(beta0))\n",
    "print('BETA1 (coeff. For X1): {:.4f}'.format(beta1))\n",
    "print('BETA2 (coeff. For X2): {:.4f}'.format(beta2))\n",
    "print('\\n')\n",
    "print('Odds Ratios:')\n",
    "print('X1: {:.4f}'.format(np.exp(beta1)))\n",
    "print('X2: {:.4f}'.format(np.exp(beta2)))"
   ]
  },
  {
   "cell_type": "markdown",
   "id": "1ee29011-8c12-4364-b17b-0352cf8a8438",
   "metadata": {},
   "source": [
    "# B-2"
   ]
  },
  {
   "cell_type": "code",
   "execution_count": 80,
   "id": "076a217e-80a9-4aca-8460-4ff95d0300f3",
   "metadata": {},
   "outputs": [
    {
     "name": "stdout",
     "output_type": "stream",
     "text": [
      "Probability of Response from Jack = 0.3944\n",
      "Probability of Response from Jill = 0.3347\n"
     ]
    }
   ],
   "source": [
    "jack=[ [2.0, 1.0] ]\n",
    "jill=[ [4.0, 0.0] ]\n",
    "def predict_coupon_usage(X):\n",
    " pred_val = model.predict_proba(X)[:,1]\n",
    " return(pred_val)\n",
    "\n",
    "print(\"Probability of Response from Jack = {:.4f}\".format(predict_coupon_usage(jack)[0]))\n",
    "print(\"Probability of Response from Jill = {:.4f}\".format(predict_coupon_usage(jill)[0]))\n"
   ]
  },
  {
   "cell_type": "markdown",
   "id": "32bd7be1-18b9-4847-bbcd-ec63c93556cc",
   "metadata": {},
   "source": [
    "Jack is more likely to respond."
   ]
  },
  {
   "cell_type": "markdown",
   "id": "d5e82aa0-432b-486c-884b-6c875d0462f2",
   "metadata": {},
   "source": [
    "\n",
    "# B-3:\n",
    "\n",
    "After looking at the logistic regression model results, a few different indicators were found for rolling out coupon predictions to a large customer database... \n",
    "\n",
    "### The model coefficients:\n",
    "\n",
    "BETA0 (or constant term): -2.0067\n",
    "BETA1 (coeff. For X1 ): 0.3299\n",
    "BETA2 (coeff. For X2): 0.9179\n",
    "\n",
    "### Odds Ratios:\n",
    "\n",
    "X1: 1.3908 (Spending)\n",
    "X2: 2.5040 (Card Ownership)\n",
    "\n",
    "-----------------------------\n",
    "\n",
    "These both show that  spending and card ownership positively correlate with coupon usage, with card ownership having a stronger correlation. We should consider that the model predicted probabilities of a response of 0.3944 for Jack and 0.3347 for Jill when trying to figure out a cutoff probability. We think that a possible cutoff of 0.35 might be a good number to start off at because it would classify Jack as likely to use the coupon and Jill as unlikely. \n",
    "\n",
    "But in order to actually make the cutoff as beneficial as it should be, there are a few steps that we need to start with. This includes splitting our data into training and test sets. Then, along with trial and error in picking cutoff points, we should use confusion matrices to see how accurate the predictions may be. In the end, the cutoff we choose should be found to balance the business goals we are trying to achieve and take into account coupon costs and benefits as well. "
   ]
  }
 ],
 "metadata": {
  "kernelspec": {
   "display_name": "Python 3 (ipykernel)",
   "language": "python",
   "name": "python3"
  },
  "language_info": {
   "codemirror_mode": {
    "name": "ipython",
    "version": 3
   },
   "file_extension": ".py",
   "mimetype": "text/x-python",
   "name": "python",
   "nbconvert_exporter": "python",
   "pygments_lexer": "ipython3",
   "version": "3.11.5"
  }
 },
 "nbformat": 4,
 "nbformat_minor": 5
}
