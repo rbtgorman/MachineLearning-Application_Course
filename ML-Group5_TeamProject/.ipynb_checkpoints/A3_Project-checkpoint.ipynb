{
 "cells": [
  {
   "cell_type": "code",
   "execution_count": 1,
   "id": "31c8c4cc",
   "metadata": {},
   "outputs": [
    {
     "name": "stdout",
     "output_type": "stream",
     "text": [
      "Requirement already satisfied: graphviz in c:\\users\\16099\\anaconda3\\lib\\site-packages (0.20.3)\n"
     ]
    }
   ],
   "source": [
    "#A3\n",
    "import numpy as np\n",
    "import pandas as pd\n",
    "import math\n",
    "import matplotlib.pylab as plt\n",
    "import seaborn as sns\n",
    "from sklearn.model_selection import train_test_split, StratifiedKFold, cross_val_score\n",
    "\n",
    "from sklearn.preprocessing import StandardScaler\n",
    "from sklearn.linear_model import LogisticRegression\n",
    "from sklearn.metrics import accuracy_score\n",
    "\n",
    "!pip install graphviz"
   ]
  },
  {
   "cell_type": "code",
   "execution_count": 2,
   "id": "599cadb6",
   "metadata": {},
   "outputs": [],
   "source": [
    "path = \"./churn2.csv\"\n",
    "df = pd.read_csv(path)[[\"COLLEGE\", \"INCOME\", \"OVERAGE\", \"LEFTOVER\", \"HOUSE\",\"HANDSET_PRICE\",\n",
    "                        \"OVER_15MINS_CALLS_PER_MONTH\",\"AVERAGE_CALL_DURATION\",\"REPORTED_SATISFACTION\",\n",
    "                        \"REPORTED_USAGE_LEVEL\",\"CONSIDERING_CHANGE_OF_PLAN\",\"LEAVE\"]].dropna()"
   ]
  },
  {
   "cell_type": "code",
   "execution_count": 3,
   "id": "05b631b7",
   "metadata": {},
   "outputs": [],
   "source": [
    "df[\"COLLEGE2\"] = (df.COLLEGE == \"one\").astype(int)"
   ]
  },
  {
   "cell_type": "code",
   "execution_count": 4,
   "id": "eeac1467",
   "metadata": {},
   "outputs": [],
   "source": [
    "df.REPORTED_SATISFACTION = df.REPORTED_SATISFACTION.astype('str')\n",
    "df.REPORTED_USAGE_LEVEL = df.REPORTED_USAGE_LEVEL.astype('str')\n",
    "df.CONSIDERING_CHANGE_OF_PLAN = df.CONSIDERING_CHANGE_OF_PLAN.astype('str')"
   ]
  },
  {
   "cell_type": "code",
   "execution_count": 5,
   "id": "5cdbc87a",
   "metadata": {},
   "outputs": [],
   "source": [
    "df[\"LEAVE2\"] = (df.LEAVE == \"STAY\").astype(int)"
   ]
  },
  {
   "cell_type": "code",
   "execution_count": 6,
   "id": "60143e4a",
   "metadata": {},
   "outputs": [
    {
     "data": {
      "text/plain": [
       "COLLEGE                        object\n",
       "INCOME                          int64\n",
       "OVERAGE                         int64\n",
       "LEFTOVER                        int64\n",
       "HOUSE                           int64\n",
       "HANDSET_PRICE                   int64\n",
       "OVER_15MINS_CALLS_PER_MONTH     int64\n",
       "AVERAGE_CALL_DURATION           int64\n",
       "REPORTED_SATISFACTION          object\n",
       "REPORTED_USAGE_LEVEL           object\n",
       "CONSIDERING_CHANGE_OF_PLAN     object\n",
       "LEAVE                          object\n",
       "COLLEGE2                        int32\n",
       "LEAVE2                          int32\n",
       "dtype: object"
      ]
     },
     "execution_count": 6,
     "metadata": {},
     "output_type": "execute_result"
    }
   ],
   "source": [
    "df.dtypes"
   ]
  },
  {
   "cell_type": "code",
   "execution_count": 7,
   "id": "d7bc9f16",
   "metadata": {},
   "outputs": [],
   "source": [
    "predictor_cols = [\"INCOME\", \"OVERAGE\",\"LEFTOVER\",\"HOUSE\",\"OVER_15MINS_CALLS_PER_MONTH\",\n",
    "                  \"AVERAGE_CALL_DURATION\",\"COLLEGE2\"]\n",
    "target_col = \"LEAVE2\""
   ]
  },
  {
   "cell_type": "code",
   "execution_count": 8,
   "id": "46360b3a",
   "metadata": {},
   "outputs": [],
   "source": [
    "predictor_cols = [\"INCOME\", \"OVERAGE\",\"LEFTOVER\",\"HOUSE\",\"OVER_15MINS_CALLS_PER_MONTH\",\n",
    "                  \"AVERAGE_CALL_DURATION\",\"COLLEGE2\"]\n",
    "target_col = \"LEAVE2\"\n",
    "from sklearn.model_selection import train_test_split\n",
    "X_train, X_test, y_train, y_test = train_test_split(df[predictor_cols],df[target_col],test_size = 0.25,random_state = 0)"
   ]
  },
  {
   "cell_type": "code",
   "execution_count": 9,
   "id": "8eb77906",
   "metadata": {},
   "outputs": [
    {
     "name": "stdout",
     "output_type": "stream",
     "text": [
      "X_train shape: (15000, 7)\n",
      "X_test shape: (5000, 7)\n",
      "y_train shape: (15000,)\n",
      "y_test shape: (5000,)\n"
     ]
    }
   ],
   "source": [
    "print(\"X_train shape: {}\".format(X_train.shape))\n",
    "print(\"X_test shape: {}\".format(X_test.shape))\n",
    "print(\"y_train shape: {}\".format(y_train.shape))\n",
    "print(\"y_test shape: {}\".format(y_test.shape))"
   ]
  },
  {
   "cell_type": "code",
   "execution_count": 10,
   "id": "d69dac5a",
   "metadata": {},
   "outputs": [
    {
     "name": "stdout",
     "output_type": "stream",
     "text": [
      "10-Fold Accuracy: [0.65266667 0.65       0.654      0.648      0.652      0.61266667\n",
      " 0.62333333 0.61266667 0.634      0.63333333]\n",
      "Mean Accuracy: 0.6372666666666668\n",
      "Mean Standard Deviation: 0.015627468693866508\n",
      "Average Error: 0.36273333333333335\n",
      "Average Std. Dev. Error: 0.015627468693866508\n"
     ]
    }
   ],
   "source": [
    "scale = StandardScaler()\n",
    "X_train_scaled = scale.fit_transform(X_train)\n",
    "\n",
    "kfold = StratifiedKFold(n_splits = 10, shuffle = True, random_state = 0)\n",
    "\n",
    "lr_regression = LogisticRegression(max_iter = 100000, random_state = 0)\n",
    "lr_accuracy_train = cross_val_score(lr_regression, X_train_scaled, y_train, cv = kfold, scoring='accuracy')\n",
    "\n",
    "accuracy = np.mean(lr_accuracy_train)\n",
    "std = np.std(lr_accuracy_train)\n",
    "\n",
    "lr_error = (1 - lr_accuracy_train)\n",
    "\n",
    "lr_mean_error = np.mean(lr_error)\n",
    "lr_std_error = np.std(lr_error)\n",
    "\n",
    "print(\"10-Fold Accuracy:\", lr_accuracy_train)\n",
    "print(\"Mean Accuracy:\", accuracy)\n",
    "print(\"Mean Standard Deviation:\", std)\n",
    "\n",
    "print(\"Average Error:\", lr_mean_error)\n",
    "print(\"Average Std. Dev. Error:\", lr_std_error)"
   ]
  }
 ],
 "metadata": {
  "kernelspec": {
   "display_name": "Python 3 (ipykernel)",
   "language": "python",
   "name": "python3"
  },
  "language_info": {
   "codemirror_mode": {
    "name": "ipython",
    "version": 3
   },
   "file_extension": ".py",
   "mimetype": "text/x-python",
   "name": "python",
   "nbconvert_exporter": "python",
   "pygments_lexer": "ipython3",
   "version": "3.11.4"
  }
 },
 "nbformat": 4,
 "nbformat_minor": 5
}
